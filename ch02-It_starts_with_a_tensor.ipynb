{
 "cells": [
  {
   "cell_type": "code",
   "execution_count": 1,
   "metadata": {},
   "outputs": [],
   "source": [
    "###### 2.1 Tensor fundamentals ######"
   ]
  },
  {
   "cell_type": "code",
   "execution_count": 2,
   "metadata": {},
   "outputs": [
    {
     "name": "stdout",
     "output_type": "stream",
     "text": [
      "a[0]:  1.0\n",
      "a[2]:  1.0\n",
      "a:  [1.0, 2.0, 1.0]\n"
     ]
    }
   ],
   "source": [
    "# python list\n",
    "## Python lists or tuples of numbers are collections of Python objects that are individually allocated in memory\n",
    "a = [1.0, 2.0, 1.0]\n",
    "print('a[0]: ', a[0])\n",
    "print('a[2]: ', a[2])\n",
    "print('a: ', a)"
   ]
  },
  {
   "cell_type": "code",
   "execution_count": 3,
   "metadata": {},
   "outputs": [
    {
     "name": "stdout",
     "output_type": "stream",
     "text": [
      "tensor a:  tensor([1., 1., 1.])\n",
      "tensor a[1]:  tensor(1.)\n",
      "float(a[1]):  1.0\n",
      "tensor a:  tensor([1., 1., 2.])\n"
     ]
    }
   ],
   "source": [
    "# PyTorch tensor\n",
    "##  PyTorch tensors or NumPy arrays, on the other hand, are views over (typically) contiguous memory blocks \n",
    "## containing unboxed C numeric types, not Python objects. \n",
    "import torch\n",
    "a = torch.ones(3)\n",
    "print('tensor a: ', a)\n",
    "print('tensor a[1]: ', a[1])\n",
    "print('float(a[1]): ', float(a[1]))\n",
    "# assign a new value\n",
    "a[2] = 2.0\n",
    "print('tensor a: ', a)"
   ]
  },
  {
   "cell_type": "code",
   "execution_count": 4,
   "metadata": {},
   "outputs": [
    {
     "name": "stdout",
     "output_type": "stream",
     "text": [
      "points:  tensor([1., 4., 2., 1., 3., 5.])\n",
      "points:  tensor([[1., 4.],\n",
      "        [2., 1.],\n",
      "        [3., 5.]])\n",
      "points.shape:  torch.Size([3, 2])\n",
      "points:  tensor([[0., 0.],\n",
      "        [0., 0.],\n",
      "        [0., 0.]])\n",
      "points[0, 1]:  tensor(4.)\n",
      "points[0]:  tensor([1., 4.])\n"
     ]
    }
   ],
   "source": [
    "# You can also pass a Python list to the constructor to the same effect\n",
    "points = torch.tensor([1.0, 4.0, 2.0, 1.0, 3.0, 5.0])\n",
    "print('points: ', points)\n",
    "float(points[0]), float(points[1])\n",
    "\n",
    "# 2D tensor\n",
    "points = torch.tensor([[1.0, 4.0], [2.0, 1.0], [3.0, 5.0]])\n",
    "print('points: ', points)\n",
    "print('points.shape: ', points.shape)\n",
    "\n",
    "# You could also use zeros or ones to initialize the tensor\n",
    "points = torch.zeros(3, 2)\n",
    "print('points: ', points)\n",
    "\n",
    "# Now you can access an individual element in the tensor by using two indices\n",
    "points = torch.FloatTensor([[1.0, 4.0], [2.0, 1.0], [3.0, 5.0]])\n",
    "print('points[0, 1]: ', points[0, 1])\n",
    "print('points[0]: ', points[0])"
   ]
  },
  {
   "cell_type": "code",
   "execution_count": 5,
   "metadata": {},
   "outputs": [],
   "source": [
    "###### 2.2 Tensors and storages ######"
   ]
  },
  {
   "cell_type": "code",
   "execution_count": 6,
   "metadata": {},
   "outputs": [
    {
     "name": "stdout",
     "output_type": "stream",
     "text": [
      "points.storage():   1.0\n",
      " 4.0\n",
      " 2.0\n",
      " 1.0\n",
      " 3.0\n",
      " 5.0\n",
      "[torch.FloatStorage of size 6]\n",
      "points_storage[0]:  1.0\n",
      "points.storage()[1]:  4.0\n",
      "points:  tensor([[2., 4.],\n",
      "        [2., 1.],\n",
      "        [3., 5.]])\n"
     ]
    }
   ],
   "source": [
    "points = torch.tensor([[1.0, 4.0], [2.0, 1.0], [3.0, 5.0]])\n",
    "print('points.storage(): ', points.storage())\n",
    "points_storage = points.storage()\n",
    "print('points_storage[0]: ', points_storage[0])\n",
    "print('points.storage()[1]: ', points.storage()[1])\n",
    "\n",
    "# changing the value of a storage\n",
    "points_storage[0] = 2.0\n",
    "print('points: ', points)"
   ]
  },
  {
   "cell_type": "code",
   "execution_count": 7,
   "metadata": {},
   "outputs": [],
   "source": [
    "###### 2.3 Size, storage offset, and strides ######"
   ]
  },
  {
   "cell_type": "code",
   "execution_count": 8,
   "metadata": {},
   "outputs": [
    {
     "name": "stdout",
     "output_type": "stream",
     "text": [
      "second_point:  tensor([2., 1.])\n",
      "points.storage_offset:  0\n",
      "second_point.storage_offset:  2\n",
      "points[0, 1].storage_offset:  1\n",
      "second_point.size:  torch.Size([2])\n",
      "second_point.shape:  torch.Size([2])\n",
      "points.stride:  (2, 1)\n",
      "points[0, 1].stride:  ()\n"
     ]
    }
   ],
   "source": [
    "points = torch.tensor([[1.0, 4.0], [2.0, 1.0], [3.0, 5.0]])\n",
    "second_point = points[1]\n",
    "print('second_point: ', second_point)\n",
    "# storage offset\n",
    "print('points.storage_offset: ', points.storage_offset())\n",
    "print('second_point.storage_offset: ', second_point.storage_offset())\n",
    "print('points[0, 1].storage_offset: ', points[0, 1].storage_offset())\n",
    "# Size\n",
    "print('second_point.size: ', second_point.size())\n",
    "# Same as tensor.shape\n",
    "print('second_point.shape: ', second_point.shape)\n",
    "# stride\n",
    "## stride is a tuple indicating the number of elements in the storage that have to be\n",
    "## skipped when the index is increased by 1 in each dimension\n",
    "print('points.stride: ', points.stride())\n",
    "print('points[0, 1].stride: ', points[0, 1].stride())\n",
    "## rows +1: offset 2 elements.\n",
    "## cols +1: offset 1 elements.\n",
    "## Accessing an element i, j in a 2D tensor results in accessing the storage_offset +\n",
    "## stride[0] * i + stride[1] * j element in the storage\n",
    "## For example: points[1, 0] = points.storage_offset + 1*stride[0] + 0*stride[1] = 0 + 2 + 0 = 2\n"
   ]
  },
  {
   "cell_type": "code",
   "execution_count": 9,
   "metadata": {},
   "outputs": [
    {
     "name": "stdout",
     "output_type": "stream",
     "text": [
      "points:  tensor([[ 1.,  4.],\n",
      "        [10.,  1.],\n",
      "        [ 3.,  5.]])\n",
      "points:  tensor([[1., 4.],\n",
      "        [2., 1.],\n",
      "        [3., 5.]])\n"
     ]
    }
   ],
   "source": [
    "# Changing the subtensor has a side effect on the original tensor too\n",
    "second_point[0] = 10.0\n",
    "print('points: ', points)\n",
    "# so you can eventually clone the subtensor into a new tensor.\n",
    "points = torch.tensor([[1.0, 4.0], [2.0, 1.0], [3.0, 5.0]])\n",
    "clone_second_point = points[1].clone()\n",
    "clone_second_point[0] = 10.0   # Not change points.\n",
    "print('points: ', points)"
   ]
  },
  {
   "cell_type": "code",
   "execution_count": 10,
   "metadata": {},
   "outputs": [
    {
     "name": "stdout",
     "output_type": "stream",
     "text": [
      "points_t:  tensor([[1., 2., 3.],\n",
      "        [4., 1., 5.]])\n",
      "points.shape:  torch.Size([3, 2])\n",
      "points.stride:  (2, 1)\n",
      "points_t.shape:  torch.Size([2, 3])\n",
      "points_t.stride:  (1, 2)\n",
      "some_tensor.shape:  torch.Size([3, 4, 5])\n",
      "some_tensor_t.shape:  torch.Size([5, 4, 3])\n",
      "some_tensor.stride:  (20, 5, 1)\n",
      "some_tensor_t.stride:  (1, 5, 20)\n",
      "points.is_contiguous:  True\n",
      "points_t.is_contiguous:  False\n",
      "points_t_cont:  tensor([[1., 2., 3.],\n",
      "        [4., 1., 5.]])\n",
      "points_t_cont.stide:  (3, 1)\n",
      "points_t_cont.storage:   1.0\n",
      " 2.0\n",
      " 3.0\n",
      " 4.0\n",
      " 1.0\n",
      " 5.0\n",
      "[torch.FloatStorage of size 6]\n"
     ]
    }
   ],
   "source": [
    "# Transpose\n",
    "points = torch.tensor([[1.0, 4.0], [2.0, 1.0], [3.0, 5.0]])\n",
    "points_t = points.t()\n",
    "print('points_t: ', points_t)\n",
    "\n",
    "# the two tensors share storage\n",
    "id(points.storage()) == id(points_t.storage())\n",
    "\n",
    "#  they differ only in shape and stride\n",
    "print('points.shape: ', points.shape)\n",
    "print('points.stride: ', points.stride())\n",
    "print('points_t.shape: ', points_t.shape)\n",
    "print('points_t.stride: ', points_t.stride())\n",
    "\n",
    "# Transposing in PyTorch isn?t limited to matrices. You can transpose a multidimensional array \n",
    "# by specifying the two dimensions along which transposing.\n",
    "some_tensor = torch.ones(3, 4, 5)\n",
    "some_tensor_t = some_tensor.transpose(0, 2) # axis: 0 <--> 2\n",
    "print('some_tensor.shape: ', some_tensor.shape)\n",
    "print('some_tensor_t.shape: ',   some_tensor_t.shape)\n",
    "# stride\n",
    "print('some_tensor.stride: ', some_tensor.stride())\n",
    "print('some_tensor_t.stride: ', some_tensor_t.stride())\n",
    "\n",
    "# In this case, points is contiguous but its transpose is not.\n",
    "print('points.is_contiguous: ', points.is_contiguous())\n",
    "print('points_t.is_contiguous: ', points_t.is_contiguous())\n",
    "\n",
    "# obtain a new contiguous tensor from a noncontiguous one \n",
    "points_t_cont = points_t.contiguous()\n",
    "print('points_t_cont: ', points_t_cont)\n",
    "print('points_t_cont.stide: ', points_t_cont.stride())\n",
    "print('points_t_cont.storage: ', points_t_cont.storage())"
   ]
  },
  {
   "cell_type": "code",
   "execution_count": 11,
   "metadata": {},
   "outputs": [],
   "source": [
    "###### 2.4 Numeric types ######"
   ]
  },
  {
   "cell_type": "code",
   "execution_count": 12,
   "metadata": {},
   "outputs": [
    {
     "name": "stdout",
     "output_type": "stream",
     "text": [
      "double_points.dtype:  torch.float64\n",
      "short_points.dtype:  torch.int16\n",
      "double_points.dtype:  torch.float64\n",
      "short_points.dtype:  torch.int16\n",
      "double_points.dtype:  torch.float64\n",
      "short_points.dtype:  torch.int16\n",
      "points.dtype:  torch.float32\n",
      "short_points.dtype:  torch.int16\n"
     ]
    }
   ],
   "source": [
    "#  The default data type is 32-bit floating-point.\n",
    "double_points = torch.ones(10, 2, dtype=torch.double)\n",
    "short_points = torch.tensor([[1, 2], [3, 4]], dtype=torch.short)\n",
    "print('double_points.dtype: ', double_points.dtype)\n",
    "print('short_points.dtype: ', short_points.dtype)\n",
    "\n",
    "# cast the output of a tensor-creation function to the right type by using the\n",
    "# corresponding casting method.\n",
    "double_points = torch.zeros(10, 2).double()\n",
    "short_points = torch.ones(10, 2).short()\n",
    "print('double_points.dtype: ', double_points.dtype)\n",
    "print('short_points.dtype: ', short_points.dtype)\n",
    "\n",
    "# or the more convenient [to] method.\n",
    "double_points = torch.zeros(10, 2).to(torch.double)\n",
    "short_points = torch.ones(10, 2).to(torch.short)\n",
    "print('double_points.dtype: ', double_points.dtype)\n",
    "print('short_points.dtype: ', short_points.dtype)\n",
    "\n",
    "# You can always cast a tensor of one type as a tensor of another type by using the\n",
    "# type method\n",
    "points = torch.randn(10, 2)\n",
    "short_points = points.type(torch.short)\n",
    "print('points.dtype: ', points.dtype)\n",
    "print('short_points.dtype: ', short_points.dtype)"
   ]
  },
  {
   "cell_type": "code",
   "execution_count": 13,
   "metadata": {},
   "outputs": [],
   "source": [
    "###### 2.5 Indexing tensors ######"
   ]
  },
  {
   "cell_type": "code",
   "execution_count": 14,
   "metadata": {},
   "outputs": [
    {
     "name": "stdout",
     "output_type": "stream",
     "text": [
      "All elements in the list [:]:  [0, 1, 2, 3, 4, 5]\n",
      "From element 1 inclusive to element 4 exclusive [1:4]:  [1, 2, 3]\n",
      "From element 1 to the end of the list [1:]:  [1, 2, 3, 4, 5]\n",
      "From start of the list to element 4 exclusive [:4]:  [0, 1, 2, 3]\n",
      "From start of the list to one before the last element [:-1]:  [0, 1, 2, 3, 4]\n",
      "From element 1 inclusive to element 4 exclusive in steps of 2 [1:4:2]:  [1, 3]\n",
      "points: \n",
      " tensor([[-1.0562,  0.7044],\n",
      "        [-0.6675, -2.2772],\n",
      "        [ 1.1524, -0.8149],\n",
      "        [-0.5191, -2.5744],\n",
      "        [-1.2037, -0.1241],\n",
      "        [-0.3604,  0.8244],\n",
      "        [ 0.5563, -2.4696],\n",
      "        [ 0.9884, -1.1750],\n",
      "        [ 1.6692,  0.2721],\n",
      "        [-2.8863,  1.2873]])\n",
      "All rows after first, implicitly all cloumns points[1:]: \n",
      " tensor([[-0.6675, -2.2772],\n",
      "        [ 1.1524, -0.8149],\n",
      "        [-0.5191, -2.5744],\n",
      "        [-1.2037, -0.1241],\n",
      "        [-0.3604,  0.8244],\n",
      "        [ 0.5563, -2.4696],\n",
      "        [ 0.9884, -1.1750],\n",
      "        [ 1.6692,  0.2721],\n",
      "        [-2.8863,  1.2873]])\n",
      "All rows after first, all cloumns points[1:, :]: \n",
      " tensor([[-0.6675, -2.2772],\n",
      "        [ 1.1524, -0.8149],\n",
      "        [-0.5191, -2.5744],\n",
      "        [-1.2037, -0.1241],\n",
      "        [-0.3604,  0.8244],\n",
      "        [ 0.5563, -2.4696],\n",
      "        [ 0.9884, -1.1750],\n",
      "        [ 1.6692,  0.2721],\n",
      "        [-2.8863,  1.2873]])\n",
      "All rows after first, first cloumn points[1:, 0]: \n",
      " tensor([-0.6675,  1.1524, -0.5191, -1.2037, -0.3604,  0.5563,  0.9884,  1.6692,\n",
      "        -2.8863])\n"
     ]
    }
   ],
   "source": [
    "# Python lists\n",
    "some_list = list(range(6))\n",
    "print('All elements in the list [:]: ', some_list[:])\n",
    "print('From element 1 inclusive to element 4 exclusive [1:4]: ', some_list[1:4])\n",
    "print('From element 1 to the end of the list [1:]: ', some_list[1:])\n",
    "print('From start of the list to element 4 exclusive [:4]: ', some_list[:4])\n",
    "print('From start of the list to one before the last element [:-1]: ', some_list[:-1])\n",
    "print('From element 1 inclusive to element 4 exclusive in steps of 2 [1:4:2]: ', some_list[1:4:2])\n",
    "\n",
    "# PyTorch tensors\n",
    "points = torch.randn(10, 2)\n",
    "print('points: \\n', points)\n",
    "print('All rows after first, implicitly all cloumns points[1:]: \\n', points[1:])\n",
    "print('All rows after first, all cloumns points[1:, :]: \\n', points[1:, :])\n",
    "print('All rows after first, first cloumn points[1:, 0]: \\n', points[1:, 0])"
   ]
  },
  {
   "cell_type": "code",
   "execution_count": 15,
   "metadata": {},
   "outputs": [],
   "source": [
    "###### 2.6 NumPy interoperability ######"
   ]
  },
  {
   "cell_type": "code",
   "execution_count": 16,
   "metadata": {},
   "outputs": [
    {
     "name": "stdout",
     "output_type": "stream",
     "text": [
      "points_np:  [[1. 1. 1. 1.]\n",
      " [1. 1. 1. 1.]\n",
      " [1. 1. 1. 1.]]\n",
      "points:  tensor([[1., 1., 1., 1.],\n",
      "        [1., 1., 1., 1.],\n",
      "        [1., 1., 1., 1.]])\n"
     ]
    }
   ],
   "source": [
    "#  PyTorch tensors can be converted to NumPy arrays and vice versa efficiently\n",
    "#  use buffer-sharing strategy.\n",
    "points = torch.ones(3, 4)\n",
    "points_np = points.numpy()\n",
    "print('points_np: ', points_np)\n",
    "\n",
    "# you can obtain a PyTorch tensor from a NumPy array this way\n",
    "points = torch.from_numpy(points_np)\n",
    "print('points: ', points)"
   ]
  },
  {
   "cell_type": "code",
   "execution_count": 17,
   "metadata": {},
   "outputs": [],
   "source": [
    "###### 2.7 Serializing tensors ######"
   ]
  },
  {
   "cell_type": "code",
   "execution_count": 18,
   "metadata": {},
   "outputs": [
    {
     "name": "stdout",
     "output_type": "stream",
     "text": [
      "points:  tensor([[1., 1., 1., 1.],\n",
      "        [1., 1., 1., 1.],\n",
      "        [1., 1., 1., 1.]])\n",
      "points:  tensor([[1., 1., 1., 1.],\n",
      "        [1., 1., 1., 1.],\n",
      "        [1., 1., 1., 1.]])\n"
     ]
    }
   ],
   "source": [
    "#  PyTorch uses pickle under the hood to serialize the tensor object\n",
    "points = torch.ones(3, 4)\n",
    "torch.save(points, 'ourpoints.t')\n",
    "\n",
    "# pass file descriptor.\n",
    "with open('ourpoints_1.t', 'wb') as f:\n",
    "    torch.save(points, f)\n",
    "    \n",
    "# Loading your points back\n",
    "points = torch.load('ourpoints.t')\n",
    "print('points: ', points)\n",
    "# with file descriptor\n",
    "with open('ourpoints_1.t', 'rb') as f:\n",
    "    points = torch.load(f)\n",
    "print('points: ', points)"
   ]
  },
  {
   "cell_type": "code",
   "execution_count": 19,
   "metadata": {},
   "outputs": [
    {
     "name": "stdout",
     "output_type": "stream",
     "text": [
      "Read points:  [[1. 1. 1. 1.]\n",
      " [1. 1. 1. 1.]\n",
      " [1. 1. 1. 1.]]\n",
      "pints_tensor:  tensor([[1., 1., 1., 1.],\n",
      "        [1., 1., 1., 1.],\n",
      "        [1., 1., 1., 1.]])\n"
     ]
    },
    {
     "name": "stderr",
     "output_type": "stream",
     "text": [
      "/usr/lib/python3/dist-packages/h5py/__init__.py:36: FutureWarning: Conversion of the second argument of issubdtype from `float` to `np.floating` is deprecated. In future, it will be treated as `np.float64 == np.dtype(float).type`.\n",
      "  from ._conv import register_converters as _register_converters\n"
     ]
    }
   ],
   "source": [
    "# HDF5 is a portable, widely supported format for representing serialized multidimensional arrays, \n",
    "# organized in a nested key-value dictionary\n",
    "# sudo apt install python3-h5py \n",
    "import h5py\n",
    "points = torch.ones(3, 4)\n",
    "\n",
    "# write\n",
    "f = h5py.File('outpoints.hdf5', 'w')\n",
    "dset = f.create_dataset('coords', data=points.numpy())\n",
    "f.close()\n",
    "\n",
    "# read\n",
    "f = h5py.File('outpoints.hdf5', 'r')\n",
    "dset = f['coords']\n",
    "print('Read points: ', dset[:])\n",
    "\n",
    "# to tensor\n",
    "points_tensor = torch.from_numpy(dset[:])\n",
    "print('pints_tensor: ', points_tensor)\n",
    "f.close()"
   ]
  },
  {
   "cell_type": "code",
   "execution_count": null,
   "metadata": {},
   "outputs": [],
   "source": [
    "###### 2.8 Moving tensors to the GPU ######"
   ]
  },
  {
   "cell_type": "code",
   "execution_count": 24,
   "metadata": {},
   "outputs": [
    {
     "name": "stdout",
     "output_type": "stream",
     "text": [
      "points:  tensor([[2., 2., 2., 2.],\n",
      "        [2., 2., 2., 2.],\n",
      "        [2., 2., 2., 2.]])\n",
      "points_gpu:  tensor([[4., 4., 4., 4.],\n",
      "        [4., 4., 4., 4.],\n",
      "        [4., 4., 4., 4.]], device='cuda:0')\n"
     ]
    }
   ],
   "source": [
    "points_gpu = torch.tensor([[1, 4], [2, 1], [3, 4]], device='cuda')\n",
    "\n",
    "# copy a tensor created on the CPU to the GPU\n",
    "points = torch.ones(3, 4)\n",
    "points_gpu = points.to(device='cuda')\n",
    "\n",
    "# your machine has more than one GPU\n",
    "points_gpu = points.to(device='cuda:0')\n",
    "\n",
    "# Multiplication performed on the CPU\n",
    "points = 2*points\n",
    "# Multiplication performed on the GPU\n",
    "points_gpu = 2*points.to(device='cuda')\n",
    "print('points: ', points)\n",
    "print('points_gpu: ', points_gpu)\n",
    "\n",
    "# use the shorthand methods cpu and cuda instead of the `to` method.\n",
    "points_gpu = points.cuda()  # cpu to gpu\n",
    "points_gpu = points.cuda(0) # cpu to gpu 0\n",
    "points_cpu = points_gpu.cpu() # gpu to cpu"
   ]
  },
  {
   "cell_type": "code",
   "execution_count": null,
   "metadata": {},
   "outputs": [],
   "source": [
    "###### 2.9 The tensor API ######"
   ]
  },
  {
   "cell_type": "code",
   "execution_count": 26,
   "metadata": {},
   "outputs": [
    {
     "name": "stdout",
     "output_type": "stream",
     "text": [
      "a:  tensor([[1., 1.],\n",
      "        [1., 1.],\n",
      "        [1., 1.]])\n",
      "a_t:  tensor([[1., 1., 1.],\n",
      "        [1., 1., 1.]])\n"
     ]
    }
   ],
   "source": [
    "a = torch.ones(3, 2)\n",
    "a_t = torch.transpose(a, 0, 1)\n",
    "a_t = a.transpose(0, 1)\n",
    "print('a: ', a)\n",
    "print('a_t: ', a_t)"
   ]
  },
  {
   "cell_type": "code",
   "execution_count": 28,
   "metadata": {},
   "outputs": [
    {
     "name": "stdout",
     "output_type": "stream",
     "text": [
      "a:  tensor([[0., 0.],\n",
      "        [0., 0.],\n",
      "        [0., 0.]])\n"
     ]
    }
   ],
   "source": [
    "# operates in-place.\n",
    "a = torch.ones(3, 2)\n",
    "a.zero_() # operate in-place\n",
    "print('a: ', a)"
   ]
  },
  {
   "cell_type": "code",
   "execution_count": null,
   "metadata": {},
   "outputs": [],
   "source": [
    "###### Exercises ######"
   ]
  },
  {
   "cell_type": "code",
   "execution_count": 33,
   "metadata": {},
   "outputs": [
    {
     "name": "stdout",
     "output_type": "stream",
     "text": [
      "a:  tensor([0, 1, 2, 3, 4, 5, 6, 7, 8])\n",
      "a.size:  torch.Size([9])\n",
      "a.offset:  0\n",
      "a.stride:  (1,)\n"
     ]
    }
   ],
   "source": [
    "# 1. Create a tensor a from list(range(9)). Predict then check what the size, offset, and strides are.\n",
    "a = torch.tensor(list(range(9)))\n",
    "print('a: ', points)\n",
    "print('a.size: ', a.size())\n",
    "print('a.offset: ', a.storage_offset())\n",
    "print('a.stride: ', a.stride())\n"
   ]
  },
  {
   "cell_type": "code",
   "execution_count": 35,
   "metadata": {},
   "outputs": [
    {
     "name": "stdout",
     "output_type": "stream",
     "text": [
      "b:  tensor([[0, 1, 2],\n",
      "        [3, 4, 5],\n",
      "        [6, 7, 8]])\n",
      "b[1, 1]:  tensor(4)\n"
     ]
    }
   ],
   "source": [
    "# 2. Create a tensor b = a.view(3, 3). What is the value of b[1,1]?\n",
    "a = torch.ones(3, 2)\n",
    "# torhc.tensor.view: Returns a new tensor with the same data as the self tensor but of a different shape\n",
    "b = points.view(3, 3) # reshape\n",
    "print('b: ', b)\n",
    "print('b[1, 1]: ', b[1, 1])"
   ]
  },
  {
   "cell_type": "code",
   "execution_count": 37,
   "metadata": {
    "scrolled": true
   },
   "outputs": [
    {
     "name": "stdout",
     "output_type": "stream",
     "text": [
      "c:  tensor([[4, 5],\n",
      "        [7, 8]])\n",
      "c.size:  torch.Size([2, 2])\n",
      "c.offset:  4\n",
      "c.stride:  (3, 1)\n"
     ]
    }
   ],
   "source": [
    "# 3. Create a tensor c = b[1:,1:]. Predict then check what the size, offset, and strides are.\n",
    "c = b[1:, 1:]  # From first rows, first cloumns.\n",
    "print('c: ', c)\n",
    "print('c.size: ', c.size())\n",
    "print('c.offset: ', c.storage_offset())\n",
    "print('c.stride: ', c.stride())"
   ]
  },
  {
   "cell_type": "code",
   "execution_count": 45,
   "metadata": {},
   "outputs": [
    {
     "name": "stdout",
     "output_type": "stream",
     "text": [
      "points:  tensor([[-0.9961,  0.0561, -0.9141],\n",
      "        [-1.3874, -0.8220, -0.7249],\n",
      "        [ 1.2126, -1.0802, -1.1914]])\n",
      "cos:  tensor([[0.5436, 0.9984, 0.6105],\n",
      "        [0.1824, 0.6807, 0.7486],\n",
      "        [0.3506, 0.4712, 0.3704]])\n",
      "sqrt:  tensor([[   nan, 0.2368,    nan],\n",
      "        [   nan,    nan,    nan],\n",
      "        [1.1012,    nan,    nan]])\n"
     ]
    }
   ],
   "source": [
    "# 4. Pick a mathematical operation like cosine or square root. \n",
    "# Can you find a corresponding function in the torch library?\n",
    "\n",
    "# https://pytorch.org/docs/master/torch.html#math-operations\n",
    "points = torch.randn(3, 3)\n",
    "# points = torch.ones(3, 3)\n",
    "print('points: ', points)\n",
    "# cos_pts = torch.cos(points)\n",
    "print('cos: ', torch.cos(points))\n",
    "print('sqrt: ', torch.sqrt(points))"
   ]
  }
 ],
 "metadata": {
  "kernelspec": {
   "display_name": "Python 3",
   "language": "python",
   "name": "python3"
  },
  "language_info": {
   "codemirror_mode": {
    "name": "ipython",
    "version": 3
   },
   "file_extension": ".py",
   "mimetype": "text/x-python",
   "name": "python",
   "nbconvert_exporter": "python",
   "pygments_lexer": "ipython3",
   "version": "3.6.9"
  }
 },
 "nbformat": 4,
 "nbformat_minor": 4
}
