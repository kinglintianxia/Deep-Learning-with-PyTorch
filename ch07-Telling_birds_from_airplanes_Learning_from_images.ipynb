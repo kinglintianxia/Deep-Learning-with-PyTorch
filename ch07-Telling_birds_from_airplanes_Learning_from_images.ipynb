{
 "cells": [
  {
   "cell_type": "markdown",
   "metadata": {},
   "source": [
    "# Telling birds from airplanes: Learning from images"
   ]
  },
  {
   "cell_type": "markdown",
   "metadata": {},
   "source": [
    "## 7.1 A dataset of tiny images\n",
    "\n",
    "`CIFAR-10` consists of 60,000 tiny 32 × 32 color (RGB) images, labeled with an integer corresponding to 1 of 10 classes: airplane (0), automobile (1), bird (2), cat (3),\n",
    "deer (4), dog (5), frog (6), horse (7), ship (8), and truck (9)"
   ]
  },
  {
   "cell_type": "code",
   "execution_count": 1,
   "metadata": {
    "scrolled": true
   },
   "outputs": [
    {
     "name": "stdout",
     "output_type": "stream",
     "text": [
      "Files already downloaded and verified\n",
      "Files already downloaded and verified\n"
     ]
    },
    {
     "data": {
      "text/plain": [
       "(torchvision.datasets.cifar.CIFAR10,\n",
       " torchvision.datasets.vision.VisionDataset,\n",
       " torch.utils.data.dataset.Dataset,\n",
       " object)"
      ]
     },
     "execution_count": 1,
     "metadata": {},
     "output_type": "execute_result"
    }
   ],
   "source": [
    "### 7.1.1 Downloading CIFAR-10\n",
    "from torchvision import datasets\n",
    "data_path = 'data/p1ch6/'\n",
    "cifar10 = datasets.CIFAR10(data_path, train=True, download=True)\n",
    "cifar10_val = datasets.CIFAR10(data_path, train=False, download=True)\n",
    "# https://docs.python.org/2/library/stdtypes.html#class.__mro__\n",
    "type(cifar10).__mro__ "
   ]
  },
  {
   "cell_type": "code",
   "execution_count": 2,
   "metadata": {
    "scrolled": true
   },
   "outputs": [
    {
     "data": {
      "text/plain": [
       "(50000, 10000)"
      ]
     },
     "execution_count": 2,
     "metadata": {},
     "output_type": "execute_result"
    }
   ],
   "source": [
    "### 7.1.2 The Dataset class\n",
    "\n",
    "# when a Python object is equipped with the __len__ method, we can\n",
    "# pass it as an argument to the len Python built-in function\n",
    "len(cifar10), len(cifar10_val)"
   ]
  },
  {
   "cell_type": "code",
   "execution_count": 3,
   "metadata": {
    "scrolled": true
   },
   "outputs": [
    {
     "data": {
      "image/png": "[encoded data removed]",
      "text/plain": [
       "<PIL.Image.Image image mode=RGB size=32x32 at 0x7FA5CC3160>"
      ]
     },
     "execution_count": 3,
     "metadata": {},
     "output_type": "execute_result"
    }
   ],
   "source": [
    "# since the dataset is equipped with the __getitem__ method, we can use the\n",
    "# standard subscript for indexing tuples and lists to access individual items.\n",
    "class_names = ['airplane','automobile','bird','cat','deer',\n",
    "               'dog','frog','horse','ship','truck']\n",
    "img, label = cifar10[99]\n",
    "img, label, class_names[label]\n",
    "img"
   ]
  },
  {
   "cell_type": "code",
   "execution_count": 4,
   "metadata": {
    "scrolled": true
   },
   "outputs": [
    {
     "data": {
      "image/png": "[encoded data removed]",
      "text/plain": [
       "<matplotlib.figure.Figure at 0x7f27d42b70>"
      ]
     },
     "metadata": {
      "needs_background": "light"
     },
     "output_type": "display_data"
    }
   ],
   "source": [
    "# Plot img\n",
    "%matplotlib inline\n",
    "from matplotlib import pyplot as plt\n",
    "# plt.figure(dpi=300)\n",
    "plt.imshow(img)\n",
    "plt.show()"
   ]
  },
  {
   "cell_type": "code",
   "execution_count": 5,
   "metadata": {
    "scrolled": true
   },
   "outputs": [
    {
     "data": {
      "text/plain": [
       "['CenterCrop',\n",
       " 'ColorJitter',\n",
       " 'Compose',\n",
       " 'FiveCrop',\n",
       " 'Grayscale',\n",
       " 'Lambda',\n",
       " 'LinearTransformation',\n",
       " 'Normalize',\n",
       " 'Pad',\n",
       " 'RandomAffine',\n",
       " 'RandomApply',\n",
       " 'RandomChoice',\n",
       " 'RandomCrop',\n",
       " 'RandomErasing',\n",
       " 'RandomGrayscale',\n",
       " 'RandomHorizontalFlip',\n",
       " 'RandomOrder',\n",
       " 'RandomPerspective',\n",
       " 'RandomResizedCrop',\n",
       " 'RandomRotation',\n",
       " 'RandomSizedCrop',\n",
       " 'RandomVerticalFlip',\n",
       " 'Resize',\n",
       " 'Scale',\n",
       " 'TenCrop',\n",
       " 'ToPILImage',\n",
       " 'ToTensor',\n",
       " '__builtins__',\n",
       " '__cached__',\n",
       " '__doc__',\n",
       " '__file__',\n",
       " '__loader__',\n",
       " '__name__',\n",
       " '__package__',\n",
       " '__path__',\n",
       " '__spec__',\n",
       " 'functional',\n",
       " 'transforms']"
      ]
     },
     "execution_count": 5,
     "metadata": {},
     "output_type": "execute_result"
    }
   ],
   "source": [
    "### 7.1.3 Dataset transforms\n",
    "\n",
    "# torchvision transforms\n",
    "\n",
    "from torchvision import transforms\n",
    "# dir: https://www.runoob.com/python/python-func-dir.html\n",
    "dir(transforms)"
   ]
  },
  {
   "cell_type": "code",
   "execution_count": 6,
   "metadata": {
    "scrolled": true
   },
   "outputs": [
    {
     "data": {
      "text/plain": [
       "torch.Size([3, 32, 32])"
      ]
     },
     "execution_count": 6,
     "metadata": {},
     "output_type": "execute_result"
    }
   ],
   "source": [
    "# Let's try out the `ToTensor` transform\n",
    "to_tensor = transforms.ToTensor()\n",
    "img_t = to_tensor(img)\n",
    "img_t.shape"
   ]
  },
  {
   "cell_type": "code",
   "execution_count": 7,
   "metadata": {
    "scrolled": true
   },
   "outputs": [
    {
     "name": "stdout",
     "output_type": "stream",
     "text": [
      "Files already downloaded and verified\n"
     ]
    },
    {
     "data": {
      "text/plain": [
       "(torch.Size([3, 32, 32]), torch.float32)"
      ]
     },
     "execution_count": 7,
     "metadata": {},
     "output_type": "execute_result"
    }
   ],
   "source": [
    "# we can pass the transform directly as an argument to dataset.CIFAR10\n",
    "cifar10_t = datasets.CIFAR10(data_path, train=True, download=True, \n",
    "                             transform=transforms.ToTensor())\n",
    "# accessing an element of the dataset will return a tensor\n",
    "img_t, _ = cifar10_t[99]\n",
    "img_t.shape, img_t.dtype"
   ]
  },
  {
   "cell_type": "code",
   "execution_count": 8,
   "metadata": {
    "scrolled": true
   },
   "outputs": [
    {
     "data": {
      "text/plain": [
       "(tensor(1.), tensor(0.))"
      ]
     },
     "execution_count": 8,
     "metadata": {},
     "output_type": "execute_result"
    }
   ],
   "source": [
    "# ToTensor transform turns the data into a 32-bit floating-point per channel,\n",
    "# scaling the values down from 0.0 to 1.0.\n",
    "# CxHxW\n",
    "img_t.max(), img_t.min()"
   ]
  },
  {
   "cell_type": "code",
   "execution_count": 9,
   "metadata": {
    "scrolled": true
   },
   "outputs": [
    {
     "data": {
      "image/png": "[encoded data removed]",
      "text/plain": [
       "<matplotlib.figure.Figure at 0x7f27b7f630>"
      ]
     },
     "metadata": {
      "needs_background": "light"
     },
     "output_type": "display_data"
    }
   ],
   "source": [
    "# Let's verify the image.\n",
    "# Note how we have to use permute to change the order of the axes from\n",
    "# C × H × W to H × W × C to match what Matplotlib expects.\n",
    "plt.imshow(img_t.permute(1, 2, 0)) # From CxHxW to HxWxC to plt show\n",
    "plt.show()"
   ]
  },
  {
   "cell_type": "code",
   "execution_count": 10,
   "metadata": {
    "scrolled": true
   },
   "outputs": [
    {
     "data": {
      "text/plain": [
       "torch.Size([3, 32, 32, 50000])"
      ]
     },
     "execution_count": 10,
     "metadata": {},
     "output_type": "execute_result"
    }
   ],
   "source": [
    "### 7.1.4 Normalizing data\n",
    "\n",
    "# In order to make it so that each channel has zero mean and unitary standard deviation\n",
    "#  v_n[c] = (v[c] - mean[c]) /stdev[c]. This is what transforms.Normalize does\n",
    "\n",
    "#  Let's stack all the tensors.\n",
    "import torch\n",
    "imgs = torch.stack([img_t for img_t,_ in cifar10_t], dim=3)\n",
    "imgs.shape"
   ]
  },
  {
   "cell_type": "code",
   "execution_count": 11,
   "metadata": {
    "scrolled": true
   },
   "outputs": [
    {
     "data": {
      "text/plain": [
       "(tensor([0.4915, 0.4823, 0.4468]), tensor([0.2470, 0.2435, 0.2616]))"
      ]
     },
     "execution_count": 11,
     "metadata": {},
     "output_type": "execute_result"
    }
   ],
   "source": [
    "# Now we can easily compute the mean & std per channel\n",
    "mean = torch.mean(imgs.view(3, -1), dim=1)\n",
    "std = torch.std(imgs.view(3, -1), dim=1)\n",
    "mean, std"
   ]
  },
  {
   "cell_type": "code",
   "execution_count": 12,
   "metadata": {
    "scrolled": true
   },
   "outputs": [],
   "source": [
    "# Transform cifar10\n",
    "transform_cifar = transforms.Compose([\n",
    "    transforms.ToTensor(),\n",
    "    transforms.Normalize(\n",
    "        mean = [0.4915, 0.4823, 0.4468],\n",
    "        std = [0.2470, 0.2435, 0.2616]\n",
    "    )\n",
    "])\n",
    "\n",
    "transformed_cifar10 = datasets.CIFAR10(data_path, train=True, download=False,\n",
    "                                      transform=transform_cifar\n",
    "                                     )\n",
    "# val\n",
    "transformed_cifar10_val = datasets.CIFAR10(data_path, train=False, download=False,\n",
    "                                           transform=transform_cifar\n",
    "                                          )\n"
   ]
  },
  {
   "cell_type": "code",
   "execution_count": 13,
   "metadata": {
    "scrolled": true
   },
   "outputs": [
    {
     "data": {
      "text/plain": [
       "(torch.Size([3, 32, 32]), torch.float32)"
      ]
     },
     "execution_count": 13,
     "metadata": {},
     "output_type": "execute_result"
    }
   ],
   "source": [
    "# Let's see the img again.\n",
    "img_tn, _ = transformed_cifar10[99]\n",
    "# img_tn\n",
    "img_tn.shape, img_tn.dtype"
   ]
  },
  {
   "cell_type": "code",
   "execution_count": 14,
   "metadata": {
    "scrolled": true
   },
   "outputs": [
    {
     "name": "stdout",
     "output_type": "stream",
     "text": [
      "tensor([-1.0055, -1.1960, -1.2595, -1.2119, -1.0531, -1.0690, -1.0690, -1.1643,\n",
      "        -1.0849, -1.1325, -1.0531, -1.0373, -0.9579, -0.6880, -0.4340, -1.1484,\n",
      "        -1.1484, -0.4975,  0.3916, -0.4181, -0.7991, -0.6404, -0.2276, -0.0529,\n",
      "         0.6774,  0.4551, -0.1958,  0.1852,  0.5504,  0.6615,  0.9156,  0.1852])\n"
     ]
    },
    {
     "data": {
      "image/png": "[encoded data removed]",
      "text/plain": [
       "<matplotlib.figure.Figure at 0x7f27a92c18>"
      ]
     },
     "metadata": {
      "needs_background": "light"
     },
     "output_type": "display_data"
    }
   ],
   "source": [
    "# converter to pil image.\n",
    "img_pil = transforms.ToPILImage()(img_tn)\n",
    "plt.imshow(img_pil)\n",
    "\n",
    "# clip\n",
    "print(img_tn[0][0])\n",
    "# print(img_tn.dtype)\n",
    "# plt.imshow(img_tn.permute(1, 2, 0)) # From CxHxW to HxWxC for plt show\n",
    "plt.show()"
   ]
  },
  {
   "cell_type": "markdown",
   "metadata": {},
   "source": [
    "## 7.2 Distinguishing birds from airplanes\n",
    "We'll pick out all the birds and airplanes from our\n",
    "CIFAR-10 dataset and build a neural network that can tell birds and airplanes apart"
   ]
  },
  {
   "cell_type": "code",
   "execution_count": 15,
   "metadata": {
    "scrolled": true
   },
   "outputs": [],
   "source": [
    "### 7.2.1 Building the dataset\n",
    "class_names = ['airplane', 'bird']\n",
    "remap_labels = {0: 0, 2: 1}  # airplane: 0, bird: 1\n",
    "\n",
    "cifar10 = datasets.CIFAR10(data_path, train=True, download=False,\n",
    "                          transform=transform_cifar\n",
    "                         )\n",
    "cifar10_val = datasets.CIFAR10(data_path, train=True, download=False,\n",
    "                               transform=transform_cifar\n",
    "                              )\n",
    "\n",
    "cifar2 = [(img, remap_labels[label]) for img, label in cifar10 if label in [0, 2]]\n",
    "cifar2_val =[(img, remap_labels[label]) for img, label in cifar10_val if label in [0, 2]]"
   ]
  },
  {
   "cell_type": "code",
   "execution_count": 16,
   "metadata": {
    "scrolled": true
   },
   "outputs": [
    {
     "data": {
      "text/plain": [
       "Sequential(\n",
       "  (0): Linear(in_features=3072, out_features=512, bias=True)\n",
       "  (1): Tanh()\n",
       "  (2): Linear(in_features=512, out_features=2, bias=True)\n",
       ")"
      ]
     },
     "execution_count": 16,
     "metadata": {},
     "output_type": "execute_result"
    }
   ],
   "source": [
    "### 7.2.2 A fully connected model\n",
    "import torch.nn as nn\n",
    "n_out = 2  # numbers of classes.\n",
    "\n",
    "model = nn.Sequential(\n",
    "    nn.Linear(3072, 512),  # 32*32*3 = 3072\n",
    "    nn.Tanh(),\n",
    "    nn.Linear(512, n_out)\n",
    ")\n",
    "model"
   ]
  },
  {
   "cell_type": "code",
   "execution_count": 17,
   "metadata": {
    "scrolled": true
   },
   "outputs": [],
   "source": [
    "### 7.2.3 Output of a classifier\n",
    "\n",
    "# In the ideal case, the network would output torch.tensor([1.0, 0.0]) for an airplane \n",
    "# and torch.tensor([0.0, 1.0]) for a bird\n"
   ]
  },
  {
   "cell_type": "code",
   "execution_count": 18,
   "metadata": {
    "scrolled": true
   },
   "outputs": [
    {
     "data": {
      "text/plain": [
       "(tensor([0.0900, 0.2447, 0.6652]), tensor(1.))"
      ]
     },
     "execution_count": 18,
     "metadata": {},
     "output_type": "execute_result"
    }
   ],
   "source": [
    "### 7.2.4 Representing the output as probabilities\n",
    "\n",
    "# Softmax\n",
    "def softmax(x):\n",
    "    return torch.exp(x)/torch.exp(x).sum()\n",
    "\n",
    "# Test\n",
    "x = torch.tensor([1.0, 2.0, 3.0])\n",
    "softmax(x), softmax(x).sum()"
   ]
  },
  {
   "cell_type": "code",
   "execution_count": 19,
   "metadata": {
    "scrolled": true
   },
   "outputs": [
    {
     "data": {
      "text/plain": [
       "tensor([[0.0900, 0.2447, 0.6652],\n",
       "        [0.0900, 0.2447, 0.6652]])"
      ]
     },
     "execution_count": 19,
     "metadata": {},
     "output_type": "execute_result"
    }
   ],
   "source": [
    "# The nn module makes softmax available as a module\n",
    "softmax = nn.Softmax(dim=1) # along dim=1\n",
    "x = torch.tensor([\n",
    "    [1.0, 2.0, 3.0],\n",
    "    [1.0, 2.0, 3.0],\n",
    "])\n",
    "softmax(x)"
   ]
  },
  {
   "cell_type": "code",
   "execution_count": 20,
   "metadata": {
    "scrolled": true
   },
   "outputs": [],
   "source": [
    "# We can now add a softmax at the end of our model, and our network\n",
    "# will be equipped to produce probabilities\n",
    "model = nn.Sequential(\n",
    "    nn.Linear(3072, 512),\n",
    "    nn.Tanh(),\n",
    "    nn.Linear(512, n_out),\n",
    "    nn.Softmax(dim=1)\n",
    ")"
   ]
  },
  {
   "cell_type": "code",
   "execution_count": 21,
   "metadata": {
    "scrolled": true
   },
   "outputs": [
    {
     "data": {
      "image/png": "[encoded data removed]",
      "text/plain": [
       "<matplotlib.figure.Figure at 0x7f27b477b8>"
      ]
     },
     "metadata": {
      "needs_background": "light"
     },
     "output_type": "display_data"
    }
   ],
   "source": [
    "# build input batch.\n",
    "img, _ = cifar2[0]\n",
    "img_pil = transforms.ToPILImage()(img)\n",
    "plt.imshow(img_pil)\n",
    "plt.show()"
   ]
  },
  {
   "cell_type": "code",
   "execution_count": 22,
   "metadata": {
    "scrolled": true
   },
   "outputs": [
    {
     "data": {
      "text/plain": [
       "tensor([[0.5151, 0.4849]], grad_fn=<SoftmaxBackward>)"
      ]
     },
     "execution_count": 22,
     "metadata": {},
     "output_type": "execute_result"
    }
   ],
   "source": [
    "# make batch\n",
    "# So we need to turn our 3 × 32 × 32 image into a 1D tensor and then add an \n",
    "# extra dimension in the zeroth position.\n",
    "img_batch = img.view(-1).unsqueeze(0)\n",
    "out = model(img_batch)\n",
    "out"
   ]
  },
  {
   "cell_type": "code",
   "execution_count": 23,
   "metadata": {
    "scrolled": true
   },
   "outputs": [],
   "source": [
    "### 7.2.5 A loss for classifying\n",
    "# we want to penalize misclassifications \n",
    "# rather than painstakingly penalize everything that doesn't look exactly like \n",
    "# a 0.0 or 1.0\n",
    "\n",
    "# it's called negative log likelihood (NLL). \n",
    "# It has the expression NLL = - sum(log(out_i[c_i]))\n",
    "\n",
    "\n",
    "# nn.NLLLoss it does not take probabilities but rather takes a tensor of log probabilities as input\n",
    "# We can now modify our model to use nn.LogSoftmax as the output module\n",
    "model = nn.Sequential(\n",
    "    nn.Linear(3072, 512),\n",
    "    nn.Tanh(),\n",
    "    nn.Linear(512, n_out),\n",
    "    nn.LogSoftmax(dim=1)\n",
    "    \n",
    ")\n",
    "\n",
    "# Loss\n",
    "loss = nn.NLLLoss()\n"
   ]
  },
  {
   "cell_type": "code",
   "execution_count": 24,
   "metadata": {
    "scrolled": true
   },
   "outputs": [
    {
     "name": "stdout",
     "output_type": "stream",
     "text": [
      "1\n"
     ]
    },
    {
     "data": {
      "text/plain": [
       "tensor(0.8489, grad_fn=<NllLossBackward>)"
      ]
     },
     "execution_count": 24,
     "metadata": {},
     "output_type": "execute_result"
    }
   ],
   "source": [
    "# We can now test it with our birdie.\n",
    "img, label = cifar2[0]\n",
    "print(label) # class indices.\n",
    "out = model(img.view(-1).unsqueeze(0))\n",
    "loss(out, torch.tensor([label]))"
   ]
  },
  {
   "cell_type": "code",
   "execution_count": 25,
   "metadata": {
    "scrolled": true
   },
   "outputs": [],
   "source": [
    "### 7.2.6 Training the classifier\n",
    "\n",
    "# Train with minibatch=1, say per img.\n",
    "learning_rate = 1e-2\n",
    "optimizer = torch.optim.SGD(model.parameters(), lr=learning_rate)\n",
    "n_epochs = 100\n",
    "loss_fn = nn.NLLLoss()\n",
    "\n",
    "# train use gpu\n",
    "# device = torch.device('cuda')\n",
    "# model = model.to(device)\n",
    "\n",
    "# Training loop\n",
    "def training_loop():\n",
    "    for epoch in range(1, n_epochs):\n",
    "        for img, label in cifar2:\n",
    "            # train use gpu\n",
    "    #         img = img.to(device)\n",
    "    #         label = label.to(device)\n",
    "            # Forward\n",
    "            out = model(img.view(-1).unsqueeze(0))\n",
    "            loss = loss_fn(out, torch.tensor([label]))\n",
    "            # Optimizer\n",
    "            optimizer.zero_grad()\n",
    "            loss.backward()\n",
    "            optimizer.step()\n",
    "\n",
    "        # Print loss per epoch\n",
    "        print('epoch: %d, loss: %f' %(epoch, loss))"
   ]
  },
  {
   "cell_type": "code",
   "execution_count": 27,
   "metadata": {
    "scrolled": true
   },
   "outputs": [],
   "source": [
    "# The torch.utils.data module has a class that helps with shuffling and\n",
    "# organizing the data in minibatches: DataLoader. \n",
    "train_loader = torch.utils.data.DataLoader(cifar2, batch_size=64, shuffle=True)\n",
    "\n",
    "# Training loop\n",
    "def training_loop():\n",
    "    for epoch in range(epochs):\n",
    "        for imgs, labels in train_loader:\n",
    "            # Forward\n",
    "            batch_size = imgs.shape[0]\n",
    "            out = model(imgs.view(batch_size, -1))\n",
    "            # Loss\n",
    "            loss = loss_fn(out, labels)\n",
    "            # optim\n",
    "            optimizer.zero_grad()\n",
    "            loss.backward()\n",
    "            optimizer.step()\n",
    "\n",
    "        print('epoch: %d, loss: %f' %(epoch, loss))\n"
   ]
  },
  {
   "cell_type": "code",
   "execution_count": 31,
   "metadata": {
    "scrolled": true
   },
   "outputs": [
    {
     "name": "stdout",
     "output_type": "stream",
     "text": [
      "Accuracy: %f 0.4518\n"
     ]
    }
   ],
   "source": [
    "# we can compute the accuracy of our model\n",
    "val_loader = torch.utils.data.DataLoader(cifar2_val, batch_size=64,shuffle=False)\n",
    "\n",
    "correct = 0\n",
    "total_samples = 0\n",
    "\n",
    "with torch.no_grad(): # No grad\n",
    "    for imgs, labels in val_loader:\n",
    "        batch_size = imgs.shape[0]\n",
    "        outs = model(imgs.view(batch_size, -1))\n",
    "        # calc accuracy.\n",
    "        total_samples += batch_size\n",
    "        _, predicts = torch.max(outs, dim=1) # val_lists, indices\n",
    "        correct += int((predicts == labels).sum())\n",
    "\n",
    "    print('Accuracy: %f', correct/total_samples)\n"
   ]
  },
  {
   "cell_type": "code",
   "execution_count": 32,
   "metadata": {},
   "outputs": [],
   "source": [
    "# The combination of nn.LogSoftmax and nn.NLLLoss is equivalent to using\n",
    "# nn.CrossEntropyLoss.\n",
    "model = nn.Sequential(\n",
    "    nn.Linear(3072, 512),\n",
    "    nn.Tanh(),\n",
    "    nn.Linear(512, n_out)\n",
    ")\n",
    "loss_fn = nn.CrossEntropyLoss()\n"
   ]
  },
  {
   "cell_type": "code",
   "execution_count": 33,
   "metadata": {},
   "outputs": [
    {
     "data": {
      "text/plain": [
       "(1574402, [1572864, 512, 1024, 2])"
      ]
     },
     "execution_count": 33,
     "metadata": {},
     "output_type": "execute_result"
    }
   ],
   "source": [
    "# PyTorch offers a quick way to determine how many parameters a model has\n",
    "# through the parameters() method of nn.Model\n",
    "numel_list = [p.numel()\n",
    "              for p in model.parameters()\n",
    "              if p.requires_grad == True\n",
    "             ]\n",
    "sum(numel_list), numel_list"
   ]
  },
  {
   "cell_type": "markdown",
   "metadata": {},
   "source": [
    "## Exercises"
   ]
  },
  {
   "cell_type": "code",
   "execution_count": 48,
   "metadata": {},
   "outputs": [
    {
     "data": {
      "image/png": "[encoded data removed]",
      "text/plain": [
       "<matplotlib.figure.Figure at 0x7f30281470>"
      ]
     },
     "metadata": {
      "needs_background": "light"
     },
     "output_type": "display_data"
    }
   ],
   "source": [
    "# Use torchvision to implement random cropping of the data.\n",
    "# https://pytorch.org/docs/stable/torchvision/transforms.html#torchvision.transforms.RandomCrop\n",
    "\n",
    "cifar10 = datasets.CIFAR10(data_path, train=True, download=False)\n",
    "\n",
    "rand_crop = transforms.RandomCrop(24)\n",
    "img, _ = cifar10[99]\n",
    "img_crop = rand_crop(img)\n",
    "\n",
    "imgs = [img, img_crop]\n",
    "names = ['img', 'img_crop']\n",
    "fig = plt.figure(figsize=(1, 2), dpi=600)\n",
    "for i in range(2):\n",
    "    ax = fig.add_subplot(1, 2, i+1)\n",
    "    ax.set_title(names[i])\n",
    "    plt.imshow(imgs[i])\n",
    "plt.show()"
   ]
  }
 ],
 "metadata": {
  "kernelspec": {
   "display_name": "Python 3",
   "language": "python",
   "name": "python3"
  },
  "language_info": {
   "codemirror_mode": {
    "name": "ipython",
    "version": 3
   },
   "file_extension": ".py",
   "mimetype": "text/x-python",
   "name": "python",
   "nbconvert_exporter": "python",
   "pygments_lexer": "ipython3",
   "version": "3.6.9"
  }
 },
 "nbformat": 4,
 "nbformat_minor": 4
}
